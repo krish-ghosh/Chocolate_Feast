{
 "cells": [
  {
   "cell_type": "code",
   "execution_count": 1,
   "metadata": {},
   "outputs": [
    {
     "name": "stdout",
     "output_type": "stream",
     "text": [
      "3\n",
      "10 2 5\n",
      "6\n",
      "12 4 4\n",
      "3\n",
      "6 2 2\n",
      "5\n"
     ]
    }
   ],
   "source": [
    "import math\n",
    "\n",
    "tests = int(input())\n",
    "for i in range(tests):\n",
    "\n",
    "    raw = input().split(\" \")\n",
    "    cash = int(raw[0])\n",
    "    price = int(raw[1])\n",
    "    trades = int(raw[2])\n",
    "    \n",
    "    # Total candy\n",
    "    total = 0\n",
    "    \n",
    "    candy = math.floor(cash / price)\n",
    "    \n",
    "    total += candy\n",
    "    wrappers = candy\n",
    "    \n",
    "    \n",
    "    while wrappers >= trades and trades > 0:\n",
    "        extra = math.floor(wrappers / trades)\n",
    "        total += extra\n",
    "        wrappers = wrappers - extra*trades + extra\n",
    "        \n",
    "    print(total)"
   ]
  }
 ],
 "metadata": {
  "kernelspec": {
   "display_name": "Python 3",
   "language": "python",
   "name": "python3"
  },
  "language_info": {
   "codemirror_mode": {
    "name": "ipython",
    "version": 3
   },
   "file_extension": ".py",
   "mimetype": "text/x-python",
   "name": "python",
   "nbconvert_exporter": "python",
   "pygments_lexer": "ipython3",
   "version": "3.7.6"
  }
 },
 "nbformat": 4,
 "nbformat_minor": 4
}
